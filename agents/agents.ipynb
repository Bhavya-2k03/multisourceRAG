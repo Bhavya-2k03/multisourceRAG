{
 "cells": [
  {
   "cell_type": "code",
   "execution_count": 1,
   "id": "cf415853",
   "metadata": {},
   "outputs": [],
   "source": [
    "# from dotenv import load_dotenv\n",
    "# load_dotenv()\n",
    "# import os\n",
    "# os.environ['OPENAI_API_KEY']=os.getenv(\"OPENAI_API_KEY\")"
   ]
  },
  {
   "cell_type": "code",
   "execution_count": 2,
   "id": "37a49e46",
   "metadata": {},
   "outputs": [],
   "source": [
    "#Creating wiki tool -->\n",
    "\n",
    "from langchain_community.tools import WikipediaQueryRun\n",
    "from langchain_community.utilities import WikipediaAPIWrapper\n",
    "api_wrapper=WikipediaAPIWrapper(top_k_results=1,doc_content_chars_max=200)\n",
    "wiki_tool=WikipediaQueryRun(api_wrapper=api_wrapper)"
   ]
  },
  {
   "cell_type": "code",
   "execution_count": 3,
   "id": "848e2d0b",
   "metadata": {},
   "outputs": [],
   "source": [
    "#Creating arxiv tool -->\n",
    "\n",
    "from langchain_community.utilities import ArxivAPIWrapper\n",
    "from langchain_community.tools import ArxivQueryRun\n",
    "arxiv_wrapper=ArxivAPIWrapper(top_k_results=1, doc_content_chars_max=200)\n",
    "arxiv_tool=ArxivQueryRun(api_wrapper=arxiv_wrapper)"
   ]
  },
  {
   "cell_type": "code",
   "execution_count": 4,
   "id": "a6b3c0cd",
   "metadata": {},
   "outputs": [
    {
     "name": "stderr",
     "output_type": "stream",
     "text": [
      "USER_AGENT environment variable not set, consider setting it to identify your requests.\n"
     ]
    }
   ],
   "source": [
    "# Creating retriever -->\n",
    "\n",
    "from langchain_community.document_loaders import WebBaseLoader\n",
    "from langchain_community.vectorstores import FAISS\n",
    "from langchain_text_splitters import RecursiveCharacterTextSplitter\n",
    "loader=WebBaseLoader(\"https://docs.smith.langchain.com/\")\n",
    "docs=loader.load()"
   ]
  },
  {
   "cell_type": "code",
   "execution_count": 5,
   "id": "347ef67e",
   "metadata": {},
   "outputs": [
    {
     "name": "stderr",
     "output_type": "stream",
     "text": [
      "C:\\Users\\DELL\\AppData\\Local\\Temp\\ipykernel_16520\\629336791.py:2: LangChainDeprecationWarning: The class `HuggingFaceEmbeddings` was deprecated in LangChain 0.2.2 and will be removed in 1.0. An updated version of the class exists in the :class:`~langchain-huggingface package and should be used instead. To use it run `pip install -U :class:`~langchain-huggingface` and import as `from :class:`~langchain_huggingface import HuggingFaceEmbeddings``.\n",
      "  hf_embeddings = HuggingFaceEmbeddings(model_name=\"sentence-transformers/all-MiniLM-L6-v2\")\n",
      "d:\\ML\\venv\\lib\\site-packages\\tqdm\\auto.py:21: TqdmWarning: IProgress not found. Please update jupyter and ipywidgets. See https://ipywidgets.readthedocs.io/en/stable/user_install.html\n",
      "  from .autonotebook import tqdm as notebook_tqdm\n"
     ]
    }
   ],
   "source": [
    "from langchain.embeddings import HuggingFaceEmbeddings\n",
    "hf_embeddings = HuggingFaceEmbeddings(model_name=\"sentence-transformers/all-MiniLM-L6-v2\")\n",
    "splitter=RecursiveCharacterTextSplitter(chunk_size=1000, chunk_overlap=200)\n",
    "documents=splitter.split_documents(docs)\n",
    "vectordb=FAISS.from_documents(documents,hf_embeddings)\n",
    "retriever=vectordb.as_retriever()"
   ]
  },
  {
   "cell_type": "code",
   "execution_count": 6,
   "id": "70b70b51",
   "metadata": {},
   "outputs": [],
   "source": [
    "# Creating Retriever tool -->\n",
    "\n",
    "from langchain.tools.retriever import create_retriever_tool\n",
    "retriever_tool=create_retriever_tool(retriever,\"langsmith_search\", \"Search for information about langsmith. For any question about langsmith, you must use this tool\")"
   ]
  },
  {
   "cell_type": "code",
   "execution_count": 7,
   "id": "3a51dffb",
   "metadata": {},
   "outputs": [],
   "source": [
    "# from transformers import AutoTokenizer, AutoModelForSeq2SeqLM, pipeline\n",
    "# from langchain.llms import HuggingFacePipeline\n",
    "# from langchain.agents import initialize_agent, AgentType\n",
    "\n",
    "# model_name = \"google/flan-t5-small\" \n",
    "# tokenizer = AutoTokenizer.from_pretrained(model_name)\n",
    "# model = AutoModelForSeq2SeqLM.from_pretrained(model_name)\n",
    "# pipe = pipeline(\"text2text-generation\", model=model, tokenizer=tokenizer, max_length=512)\n",
    "# llm = HuggingFacePipeline(pipeline=pipe)"
   ]
  },
  {
   "cell_type": "code",
   "execution_count": 8,
   "id": "a9844281",
   "metadata": {},
   "outputs": [],
   "source": [
    "from langchain_ollama.llms import OllamaLLM\n",
    "llm=OllamaLLM(model=\"gemma3:4b\", temperature=0.1,  top_p=0.9)"
   ]
  },
  {
   "cell_type": "code",
   "execution_count": 9,
   "id": "703429bb",
   "metadata": {},
   "outputs": [
    {
     "name": "stderr",
     "output_type": "stream",
     "text": [
      "d:\\ML\\venv\\lib\\site-packages\\langsmith\\client.py:272: LangSmithMissingAPIKeyWarning: API key must be provided when using hosted LangSmith API\n",
      "  warnings.warn(\n"
     ]
    }
   ],
   "source": [
    "from langchain import hub\n",
    "prompt=hub.pull(\"hwchase17/react\")\n",
    "tools=[wiki_tool,retriever_tool,arxiv_tool]\n",
    "# tools=[retriever_tool]"
   ]
  },
  {
   "cell_type": "code",
   "execution_count": 10,
   "id": "e6b7d838",
   "metadata": {},
   "outputs": [],
   "source": [
    "#Agent executor -->\n",
    "from langchain.agents import create_react_agent, AgentExecutor\n",
    "agent=create_react_agent(llm, tools, prompt)\n",
    "agent_executor=AgentExecutor(agent=agent, tools=tools, verbose=True,handle_parsing_errors=True)"
   ]
  },
  {
   "cell_type": "code",
   "execution_count": 11,
   "id": "a1dd570e",
   "metadata": {},
   "outputs": [
    {
     "name": "stdout",
     "output_type": "stream",
     "text": [
      "\n",
      "\n",
      "\u001b[1m> Entering new AgentExecutor chain...\u001b[0m\n",
      "\u001b[32;1m\u001b[1;3mI need to understand what highway hypnosis is. I can use the wikipedia tool to find information about this topic.\n",
      "Action: wikipedia\n",
      "Action Input: \"highway hypnosis\"\u001b[0m\u001b[36;1m\u001b[1;3mPage: Highway hypnosis\n",
      "Summary: Highway hypnosis, also known as white line fever, is an altered mental state in which an automobile driver can drive lengthy distances and respond adequately to externa\u001b[0m\u001b[32;1m\u001b[1;3mI now know the final answer\n",
      "Final Answer: Page: Highway hypnosis\n",
      "Summary: Highway hypnosis, also known as white line fever, is an altered mental state in which an automobile driver can drive lengthy distances and respond adequately to externa\u001b[0m\n",
      "\n",
      "\u001b[1m> Finished chain.\u001b[0m\n",
      "{'input': 'What is highway hypnosis?', 'output': 'Page: Highway hypnosis\\nSummary: Highway hypnosis, also known as white line fever, is an altered mental state in which an automobile driver can drive lengthy distances and respond adequately to externa'}\n"
     ]
    }
   ],
   "source": [
    "result=agent_executor.invoke({\"input\": \"What is highway hypnosis?\"})\n",
    "print(result)"
   ]
  }
 ],
 "metadata": {
  "kernelspec": {
   "display_name": "venv",
   "language": "python",
   "name": "python3"
  },
  "language_info": {
   "codemirror_mode": {
    "name": "ipython",
    "version": 3
   },
   "file_extension": ".py",
   "mimetype": "text/x-python",
   "name": "python",
   "nbconvert_exporter": "python",
   "pygments_lexer": "ipython3",
   "version": "3.10.7"
  }
 },
 "nbformat": 4,
 "nbformat_minor": 5
}
